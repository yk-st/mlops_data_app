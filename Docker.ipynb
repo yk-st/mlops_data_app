{
 "cells": [
  {
   "cell_type": "markdown",
   "metadata": {},
   "source": [
    "# 2. Docker Desktopをインストールします\n",
    "\n",
    "ご自身の環境に合わせてインストールください  \n",
    "https://www.docker.com/get-started\n",
    "\n",
    "\n",
    "メモリを6GBに設定しておくと動作も軽快で便利です  \n",
    "![図1.2 Dockerのメモリ設定](files/images/docker_memory.png)"
   ]
  },
  {
   "cell_type": "markdown",
   "metadata": {},
   "source": [
    "# コンテナを起動\n",
    "docker-compose up -d"
   ]
  },
  {
   "cell_type": "markdown",
   "metadata": {},
   "source": [
    "# Dbの準備を行います\n",
    "docker exec -it pyspark_big /bin/bash\n",
    "\n",
    "1. mysql -h db_mysql_big -uroot -proot\n",
    "2. source 2.3.0_utf-8.sql"
   ]
  },
  {
   "cell_type": "markdown",
   "metadata": {},
   "source": [
    "# ターミナルでpyspark動くか確認します\n",
    "\n",
    "1. ターミナルでpyspark\n",
    "2. ターミナルでspark-submitが存在していること"
   ]
  },
  {
   "cell_type": "markdown",
   "metadata": {},
   "source": [
    "# 各サーバーのURL\n",
    "## 作業用コンテナへの接続\n",
    "docker exec -it pyspark_big /bin/bash\n",
    "## digdag\n",
    "http://localhost:65432/\n",
    "## mysql への接続\n",
    "mysql -h db_mysql_big -uroot -proot\n",
    "## metabaseへの接続\n",
    "http://localhost:3000/setup\n",
    "## ログイン画面\n",
    "http://localhost:3001/\n",
    "## カート画面\n",
    "http://localhost:3001/cart\n",
    "## 買い上げ完了画面\n",
    "http://localhost:3001/done\n",
    "## Mongo Express\n",
    "http://localhost:8081/"
   ]
  },
  {
   "cell_type": "markdown",
   "metadata": {},
   "source": [
    "# metabaseからのデータソースへの接続情報\n",
    "パスワードはpassowrdです。\n",
    "表示名は適当で構いません。\n",
    "\n",
    "それ以外は以下をそれぞれ入力します。\n",
    "\n",
    "- metabase_postgres_big\n",
    "- metabase\n",
    "- postgres\n",
    "![図1.2 Dockerのメモリ設定](files/images/metabase_setting.png)"
   ]
  },
  {
   "cell_type": "markdown",
   "metadata": {},
   "source": [
    "# metabaseからのETL後データ反映DBへの接続情報\n",
    "\n",
    "パスワードはpassowrdです。\n",
    "表示名は適当で構いません。\n",
    "\n",
    "それ以外は以下をそれぞれ入力します。\n",
    "\n",
    "- postgres_data_big\n",
    "- accesslayer\n",
    "- postgres\n",
    "![図1.2 Dockerのメモリ設定](files/images/metabase_etldb_setting.png)"
   ]
  }
 ],
 "metadata": {
  "interpreter": {
   "hash": "578f5f657c2fb65ecadb997ad60e5cf2da380ecec34305a6dd913dc5b96e257c"
  },
  "kernelspec": {
   "display_name": "Python 3.9.1 64-bit ('3.9.1': pyenv)",
   "language": "python",
   "name": "python3"
  },
  "language_info": {
   "codemirror_mode": {
    "name": "ipython",
    "version": 3
   },
   "file_extension": ".py",
   "mimetype": "text/x-python",
   "name": "python",
   "nbconvert_exporter": "python",
   "pygments_lexer": "ipython3",
   "version": "3.9.1"
  },
  "orig_nbformat": 4
 },
 "nbformat": 4,
 "nbformat_minor": 2
}
