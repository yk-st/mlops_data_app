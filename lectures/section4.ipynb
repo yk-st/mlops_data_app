{
 "cells": [
  {
   "cell_type": "markdown",
   "metadata": {},
   "source": [
    "# モデルの出力結果(mongodb)とデータアプリケーション(Nodejs)を連携してみよう\n",
    "\n",
    "今回はモデルの結果はmongodbに格納済み  \n",
    "格納したデータをデータアプリケーションであるWebアプリから取得していきます。\n",
    "\n",
    "「express.js」をもとに話を進めていきましょう。"
   ]
  },
  {
   "cell_type": "markdown",
   "metadata": {},
   "source": [
    "# モデルの精度をモニタリングしてみましょう\n",
    "\n",
    "ここまでで、MlOpsの単純な流れは一度みたことになります。"
   ]
  },
  {
   "cell_type": "markdown",
   "metadata": {},
   "source": [
    "# モデルの再学習を検討しよう"
   ]
  },
  {
   "cell_type": "markdown",
   "metadata": {},
   "source": [
    "# モデルを継続的にデプロイしよう"
   ]
  }
 ],
 "metadata": {
  "language_info": {
   "name": "python"
  },
  "orig_nbformat": 4
 },
 "nbformat": 4,
 "nbformat_minor": 2
}
